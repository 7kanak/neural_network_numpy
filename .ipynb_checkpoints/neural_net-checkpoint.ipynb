{
 "cells": [
  {
   "cell_type": "code",
   "execution_count": 1,
   "metadata": {
    "collapsed": true
   },
   "outputs": [],
   "source": [
    "import numpy as np"
   ]
  },
  {
   "cell_type": "code",
   "execution_count": 62,
   "metadata": {
    "collapsed": true
   },
   "outputs": [],
   "source": [
    "class DeepLearning():\n",
    "    def __init__(self,X,label,learning_rate,lbd=0):\n",
    "        np.random.seed(2)\n",
    "        np.seterr(all='raise')\n",
    "        self.m = X.shape[1]\n",
    "        self.n = {}\n",
    "        self.prev_layer = X.shape[0]\n",
    "        self.weights = {}\n",
    "        self.bias = {}\n",
    "        self.z = {}\n",
    "        self.a = {}\n",
    "        self.num_layers=0\n",
    "        self.fn = {}\n",
    "        self.da = {}\n",
    "        self.dw = {}\n",
    "        self.db = {}\n",
    "        self.a[0] = X\n",
    "        self.alpha = learning_rate\n",
    "        self.y = label\n",
    "        self.lbd = lbd\n",
    "        \n",
    "    def add_layer(self,neurons,acti_fn='sigmoid',c=1.0):\n",
    "        if acti_fn=='relu':\n",
    "            c=2.0\n",
    "        self.weights[self.num_layers+1] = np.random.randn(neurons,self.prev_layer)*np.sqrt(c/self.prev_layer)\n",
    "        #self.weights[self.num_layers+1] = 2*(np.random.rand(neurons,self.prev_layer))-1\n",
    "        self.bias[self.num_layers+1] = np.random.random((neurons,1))\n",
    "        self.num_layers+=1\n",
    "        self.fn[self.num_layers] = acti_fn\n",
    "        self.prev_layer=neurons\n",
    "    \n",
    "    def feed_forward(self):\n",
    "        for layer in range(1,self.num_layers+1):\n",
    "            self.z[layer] = np.dot(self.weights[layer],self.a[layer-1]) + self.bias[layer]\n",
    "            self.a[layer] = self.activation_function(self.z[layer],self.fn[layer])\n",
    "    \n",
    "    def activation_function(self,x,acti_fn):\n",
    "        if acti_fn == 'tanh':\n",
    "            return (np.exp(x)-np.exp(-x))/(np.exp(x)+np.exp(-x))\n",
    "        if acti_fn == 'relu':\n",
    "            return np.maximum(0.01*x,x)\n",
    "        if acti_fn == 'sigmoid':\n",
    "            return 1 / (1 + np.exp(-x))\n",
    "        \n",
    "    def back_pass(self):\n",
    "        #self.da[self.num_layers] = -1*(self.y/self.a[self.num_layers])+(1-self.y)/(1-self.a[self.num_layers])\n",
    "        self.da[self.num_layers] = (self.y-self.a[self.num_layers])/(self.a[self.num_layers]**2-1)\n",
    "        for layer in reversed(range(1,self.num_layers+1)):\n",
    "            tmp = self.da[layer]*self.derivative_fn(self.z[layer],self.fn[layer])\n",
    "            self.dw[layer] = (np.dot(tmp,(self.a[layer-1]).T))/self.m + (self.lbd*self.weights[layer])/(self.m+0.0)\n",
    "            self.db[layer] = (np.sum(tmp,axis=1,keepdims=True))/self.m\n",
    "            self.da[layer-1] = np.dot((self.weights[layer]).T,tmp)\n",
    "    \n",
    "    def derivative_fn(self,x,acti_fn):\n",
    "        x = self.activation_function(x,acti_fn)\n",
    "        if acti_fn == 'tanh':\n",
    "            return 1-x**2\n",
    "        if acti_fn == 'relu':\n",
    "            return np.where(x<0,0.01,1)\n",
    "        if acti_fn == 'sigmoid':\n",
    "            return x * (1 - x)\n",
    "    \n",
    "    def gradient_descent(self):\n",
    "        for layer in range(1,self.num_layers+1):\n",
    "            self.weights[layer] = self.weights[layer] -self.alpha*self.dw[layer]\n",
    "            self.bias[layer] = self.bias[layer] - self.alpha*self.db[layer]\n",
    "            \n",
    "    def cost_fn(self):\n",
    "        activation=self.a[self.num_layers]\n",
    "        reg_error = 0\n",
    "        for layer in range(1,self.num_layers+1):\n",
    "            reg_error += (np.linalg.norm(self.weights[layer]))**2\n",
    "        reg_error = (reg_error*self.lbd)/(self.m+0.0)\n",
    "        return (-1*np.average(np.log(activation)*self.y + np.log(1-activation)*(1-self.y)))+reg_error,np.sum((activation>0.5).astype(int)==self.y)/(self.m+0.0)\n",
    "    \n",
    "    def train(self):\n",
    "        i = 0\n",
    "        while True:\n",
    "            self.feed_forward()\n",
    "            self.back_pass()\n",
    "            self.gradient_descent()\n",
    "            i=i+1\n",
    "            if i%100 == 0:\n",
    "                print i\n",
    "            #print self.cost_fn()\n",
    "            if self.cost_fn()[0]<0.1:\n",
    "                print i\n",
    "                break"
   ]
  },
  {
   "cell_type": "code",
   "execution_count": 63,
   "metadata": {
    "collapsed": true
   },
   "outputs": [],
   "source": [
    "def mf(a):\n",
    "    return (a[0]+a[1])\n",
    "X = 100*(np.random.random((2,10000)))+1"
   ]
  },
  {
   "cell_type": "code",
   "execution_count": 64,
   "metadata": {
    "collapsed": true
   },
   "outputs": [],
   "source": [
    "y = ((np.apply_along_axis(mf,0,X))>110).astype(int).reshape(1,10000)"
   ]
  },
  {
   "cell_type": "code",
   "execution_count": 56,
   "metadata": {},
   "outputs": [
    {
     "name": "stdout",
     "output_type": "stream",
     "text": [
      "1943\n"
     ]
    }
   ],
   "source": [
    "nn = DeepLearning(X,y,0.1)\n",
    "nn.add_layer(3,acti_fn='relu')\n",
    "nn.add_layer(7,acti_fn='relu')\n",
    "nn.add_layer(5,acti_fn='relu')\n",
    "nn.add_layer(9,acti_fn='relu')\n",
    "nn.add_layer(6,acti_fn='relu')\n",
    "nn.add_layer(9,acti_fn='relu')\n",
    "nn.add_layer(5,acti_fn='relu')\n",
    "nn.add_layer(7,acti_fn='relu')\n",
    "nn.add_layer(3,acti_fn='relu')\n",
    "nn.add_layer(1)\n",
    "nn.train()"
   ]
  },
  {
   "cell_type": "code",
   "execution_count": 68,
   "metadata": {},
   "outputs": [
    {
     "name": "stdout",
     "output_type": "stream",
     "text": [
      "100\n",
      "200\n",
      "300\n",
      "400\n",
      "500\n",
      "600\n",
      "700\n",
      "800\n",
      "860\n"
     ]
    }
   ],
   "source": [
    "nn = DeepLearning(X,y,learning_rate=0.1,lbd=0.05)\n",
    "nn.add_layer(3,acti_fn='relu')\n",
    "nn.add_layer(7,acti_fn='relu')\n",
    "nn.add_layer(5,acti_fn='relu')\n",
    "nn.add_layer(9,acti_fn='relu')\n",
    "nn.add_layer(6,acti_fn='relu')\n",
    "nn.add_layer(9,acti_fn='relu')\n",
    "nn.add_layer(5,acti_fn='relu')\n",
    "nn.add_layer(7,acti_fn='relu')\n",
    "nn.add_layer(3,acti_fn='relu')\n",
    "nn.add_layer(1)\n",
    "nn.train()"
   ]
  },
  {
   "cell_type": "code",
   "execution_count": null,
   "metadata": {
    "collapsed": true
   },
   "outputs": [],
   "source": []
  }
 ],
 "metadata": {
  "kernelspec": {
   "display_name": "Python 2",
   "language": "python",
   "name": "python2"
  },
  "language_info": {
   "codemirror_mode": {
    "name": "ipython",
    "version": 2
   },
   "file_extension": ".py",
   "mimetype": "text/x-python",
   "name": "python",
   "nbconvert_exporter": "python",
   "pygments_lexer": "ipython2",
   "version": "2.7.13"
  }
 },
 "nbformat": 4,
 "nbformat_minor": 2
}
